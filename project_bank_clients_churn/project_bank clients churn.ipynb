{
 "cells": [
  {
   "cell_type": "markdown",
   "metadata": {},
   "source": [
    "# Отток клиентов"
   ]
  },
  {
   "cell_type": "markdown",
   "metadata": {},
   "source": [
    "Из банка стали уходить клиенты. С целью фокуса маркетинговой стратегии нужно спрогнозировать, уйдёт клиент из банка в ближайшее время или нет. Имеются исторические данные о поведении клиентов и расторжении договоров с банком. \n",
    "\n",
    "Построи модель с предельно большим значением *F1*-меры (не менее 0.59).\n",
    "\n",
    "Источник данных: [https://www.kaggle.com/barelydedicated/bank-customer-churn-modeling](https://www.kaggle.com/barelydedicated/bank-customer-churn-modeling)"
   ]
  },
  {
   "cell_type": "markdown",
   "metadata": {},
   "source": [
    "# 1. Подготовка данных"
   ]
  },
  {
   "cell_type": "code",
   "execution_count": 1,
   "metadata": {},
   "outputs": [
    {
     "name": "stdout",
     "output_type": "stream",
     "text": [
      "<class 'pandas.core.frame.DataFrame'>\n",
      "RangeIndex: 10000 entries, 0 to 9999\n",
      "Data columns (total 14 columns):\n",
      "RowNumber          10000 non-null int64\n",
      "CustomerId         10000 non-null int64\n",
      "Surname            10000 non-null object\n",
      "CreditScore        10000 non-null int64\n",
      "Geography          10000 non-null object\n",
      "Gender             10000 non-null object\n",
      "Age                10000 non-null int64\n",
      "Tenure             9091 non-null float64\n",
      "Balance            10000 non-null float64\n",
      "NumOfProducts      10000 non-null int64\n",
      "HasCrCard          10000 non-null int64\n",
      "IsActiveMember     10000 non-null int64\n",
      "EstimatedSalary    10000 non-null float64\n",
      "Exited             10000 non-null int64\n",
      "dtypes: float64(3), int64(8), object(3)\n",
      "memory usage: 1.1+ MB\n",
      "None\n"
     ]
    }
   ],
   "source": [
    "import pandas as pd\n",
    "data = pd.read_csv('/datasets/Churn.csv')\n",
    "print(data.info())"
   ]
  },
  {
   "cell_type": "markdown",
   "metadata": {},
   "source": [
    "Типы данных соответствуют. Выявлены пропуски по столбцу Tenure (количество недвижимости). проанализируем детально"
   ]
  },
  {
   "cell_type": "code",
   "execution_count": 2,
   "metadata": {},
   "outputs": [
    {
     "name": "stdout",
     "output_type": "stream",
     "text": [
      "[ 2.  1.  8.  7.  4.  6.  3. 10.  5.  9.  0. nan]\n",
      "1.0     952\n",
      "2.0     950\n",
      "8.0     933\n",
      "3.0     928\n",
      "5.0     927\n",
      "7.0     925\n",
      "4.0     885\n",
      "9.0     882\n",
      "6.0     881\n",
      "10.0    446\n",
      "0.0     382\n",
      "Name: Tenure, dtype: int64\n"
     ]
    }
   ],
   "source": [
    "print(data['Tenure'].unique())\n",
    "print(data['Tenure'].value_counts())"
   ]
  },
  {
   "cell_type": "markdown",
   "metadata": {},
   "source": [
    "Причина пропусков - при заполнении данных респонденты не заполнили поле, т.к. у них не было объектов недвижимости во владении. Заполним пропуски 0."
   ]
  },
  {
   "cell_type": "code",
   "execution_count": 3,
   "metadata": {},
   "outputs": [
    {
     "name": "stdout",
     "output_type": "stream",
     "text": [
      "0.0     1291\n",
      "1.0      952\n",
      "2.0      950\n",
      "8.0      933\n",
      "3.0      928\n",
      "5.0      927\n",
      "7.0      925\n",
      "4.0      885\n",
      "9.0      882\n",
      "6.0      881\n",
      "10.0     446\n",
      "Name: Tenure, dtype: int64\n"
     ]
    }
   ],
   "source": [
    "data = data.fillna(value=0)\n",
    "print(data['Tenure'].value_counts())"
   ]
  },
  {
   "cell_type": "markdown",
   "metadata": {},
   "source": [
    "Первые три столбца - индекс строки в данных, уникальный идентификатор клиента, фамилия - не являются признаками, на которых можно строить предсказания. Откинем эти столбцы."
   ]
  },
  {
   "cell_type": "code",
   "execution_count": 4,
   "metadata": {},
   "outputs": [
    {
     "name": "stdout",
     "output_type": "stream",
     "text": [
      "<class 'pandas.core.frame.DataFrame'>\n",
      "RangeIndex: 10000 entries, 0 to 9999\n",
      "Data columns (total 11 columns):\n",
      "CreditScore        10000 non-null int64\n",
      "Geography          10000 non-null object\n",
      "Gender             10000 non-null object\n",
      "Age                10000 non-null int64\n",
      "Tenure             10000 non-null float64\n",
      "Balance            10000 non-null float64\n",
      "NumOfProducts      10000 non-null int64\n",
      "HasCrCard          10000 non-null int64\n",
      "IsActiveMember     10000 non-null int64\n",
      "EstimatedSalary    10000 non-null float64\n",
      "Exited             10000 non-null int64\n",
      "dtypes: float64(3), int64(6), object(2)\n",
      "memory usage: 859.5+ KB\n",
      "None\n"
     ]
    }
   ],
   "source": [
    "churn = data.drop(['RowNumber', 'CustomerId', 'Surname'], axis=1)\n",
    "print(churn.info())"
   ]
  },
  {
   "cell_type": "markdown",
   "metadata": {},
   "source": [
    "Преобразуем категориальные переменные в численные с помощью метода прямого кодирования. Чтобы избежать дамми-ловушки, удалим первый столбцец, значение которого можно восстановить по другим."
   ]
  },
  {
   "cell_type": "code",
   "execution_count": 5,
   "metadata": {},
   "outputs": [
    {
     "name": "stdout",
     "output_type": "stream",
     "text": [
      "(10000, 12)\n",
      "   CreditScore  Age  Tenure    Balance  NumOfProducts  HasCrCard  \\\n",
      "0          619   42     2.0       0.00              1          1   \n",
      "1          608   41     1.0   83807.86              1          0   \n",
      "2          502   42     8.0  159660.80              3          1   \n",
      "3          699   39     1.0       0.00              2          0   \n",
      "4          850   43     2.0  125510.82              1          1   \n",
      "\n",
      "   IsActiveMember  EstimatedSalary  Exited  Geography_Germany  \\\n",
      "0               1        101348.88       1                  0   \n",
      "1               1        112542.58       0                  0   \n",
      "2               0        113931.57       1                  0   \n",
      "3               0         93826.63       0                  0   \n",
      "4               1         79084.10       0                  0   \n",
      "\n",
      "   Geography_Spain  Gender_Male  \n",
      "0                0            0  \n",
      "1                1            0  \n",
      "2                0            0  \n",
      "3                0            0  \n",
      "4                1            0  \n"
     ]
    }
   ],
   "source": [
    "churn_ohe = pd.get_dummies(churn, drop_first=True)\n",
    "print(churn_ohe.shape)\n",
    "print(churn_ohe.head())"
   ]
  },
  {
   "cell_type": "markdown",
   "metadata": {},
   "source": [
    "Разделим полученный датасет на 3 выборки."
   ]
  },
  {
   "cell_type": "code",
   "execution_count": 6,
   "metadata": {},
   "outputs": [],
   "source": [
    "from sklearn.model_selection import train_test_split\n",
    "churn_train, churn_valid_test = train_test_split(churn_ohe, test_size=0.4, random_state=12345)\n",
    "churn_valid, churn_test = train_test_split(churn_valid_test, test_size=0.5, random_state=12345)"
   ]
  },
  {
   "cell_type": "markdown",
   "metadata": {},
   "source": [
    "Целевой признак для нас - это столбец Exited - ушел клиент или нет. Разделим полученные выборки на целевые признаки и признаки. "
   ]
  },
  {
   "cell_type": "code",
   "execution_count": 7,
   "metadata": {},
   "outputs": [],
   "source": [
    "train_features = churn_train.drop(['Exited'], axis=1)\n",
    "train_target = churn_train['Exited']\n",
    "valid_features = churn_valid.drop(['Exited'], axis=1)\n",
    "valid_target = churn_valid['Exited']\n",
    "test_features = churn_test.drop(['Exited'], axis=1)\n",
    "test_target = churn_test['Exited']"
   ]
  },
  {
   "cell_type": "markdown",
   "metadata": {},
   "source": [
    "Т.к. в наших данных присутствуют колличественные признаки с разными разбросами значений, то алгорим может решить, что признаки с\n",
    "большими значениями и разбросом важнее. Чтобы избежать этой ловушки, отмасшатибруем признаки (приведен к одному масштабу)."
   ]
  },
  {
   "cell_type": "code",
   "execution_count": 8,
   "metadata": {},
   "outputs": [],
   "source": [
    "from sklearn.preprocessing import StandardScaler\n",
    "scaler = StandardScaler()\n",
    "#Обучим scaler на обучающей выборке\n",
    "scaler.fit(train_features)\n",
    "\n",
    "#отмасштабируем тренировочные, валидационные и тестовые выборки\n",
    "train_features_scaled = scaler.transform(train_features)\n",
    "valid_features_scaled = scaler.transform(valid_features)\n",
    "test_features_scaled = scaler.transform(test_features)"
   ]
  },
  {
   "cell_type": "markdown",
   "metadata": {},
   "source": [
    "Вывод\n",
    "\n",
    "Мы ознакомились с данными, заполнили пропуски по столбцу Tenure, перекодировали ктегориальные переменные, разделили данные на 3 выборки, отмасштабировали данные."
   ]
  },
  {
   "cell_type": "markdown",
   "metadata": {},
   "source": [
    "# 2. Исследование задачи"
   ]
  },
  {
   "cell_type": "markdown",
   "metadata": {},
   "source": [
    "Изучим баланс классов. Классы являются сбалансированными, когда их соотношение 1:1. "
   ]
  },
  {
   "cell_type": "code",
   "execution_count": 9,
   "metadata": {},
   "outputs": [
    {
     "name": "stdout",
     "output_type": "stream",
     "text": [
      "0    7963\n",
      "1    2037\n",
      "Name: Exited, dtype: int64\n"
     ]
    }
   ],
   "source": [
    "print(data['Exited'].value_counts())"
   ]
  },
  {
   "cell_type": "markdown",
   "metadata": {},
   "source": [
    "Мы видим, что наблюдается дисбаланс классов (1 - 20%, 0 - 80%). Соответственно, метрика accruacy не является подходящей. Для таких случаев есть метрика полнота (recall) и точность (precision). Комибированной метрикой из этих двух является F1. По ней и будем оценивать качество моделей."
   ]
  },
  {
   "cell_type": "markdown",
   "metadata": {},
   "source": [
    "Выберем наиболее подходящую модель из случайного леса и логистической регрессии. Начнем со случайного леса. Переберем гиперпараметры и выберем модель, которая даёт наибольшую метрику f1."
   ]
  },
  {
   "cell_type": "code",
   "execution_count": 10,
   "metadata": {},
   "outputs": [
    {
     "name": "stdout",
     "output_type": "stream",
     "text": [
      "F1-score при значении n_estimators = 10 и max_depth =  1 составила: 0.0\n"
     ]
    },
    {
     "name": "stderr",
     "output_type": "stream",
     "text": [
      "/opt/conda/lib/python3.7/site-packages/sklearn/metrics/classification.py:1437: UndefinedMetricWarning: F-score is ill-defined and being set to 0.0 due to no predicted samples.\n",
      "  'precision', 'predicted', average, warn_for)\n"
     ]
    },
    {
     "name": "stdout",
     "output_type": "stream",
     "text": [
      "F1-score при значении n_estimators = 10 и max_depth =  2 составила: 0.2\n",
      "F1-score при значении n_estimators = 10 и max_depth =  3 составила: 0.25102880658436216\n",
      "F1-score при значении n_estimators = 10 и max_depth =  4 составила: 0.476843910806175\n",
      "F1-score при значении n_estimators = 10 и max_depth =  5 составила: 0.4727891156462586\n",
      "F1-score при значении n_estimators = 10 и max_depth =  6 составила: 0.5463258785942492\n",
      "F1-score при значении n_estimators = 10 и max_depth =  7 составила: 0.5408805031446541\n",
      "F1-score при значении n_estimators = 10 и max_depth =  8 составила: 0.5527156549520766\n",
      "F1-score при значении n_estimators = 10 и max_depth =  9 составила: 0.5800604229607251\n",
      "F1-score при значении n_estimators = 10 и max_depth =  10 составила: 0.5735963581183612\n",
      "F1-score при значении n_estimators = 20 и max_depth =  1 составила: 0.0\n"
     ]
    },
    {
     "name": "stderr",
     "output_type": "stream",
     "text": [
      "/opt/conda/lib/python3.7/site-packages/sklearn/metrics/classification.py:1437: UndefinedMetricWarning: F-score is ill-defined and being set to 0.0 due to no predicted samples.\n",
      "  'precision', 'predicted', average, warn_for)\n"
     ]
    },
    {
     "name": "stdout",
     "output_type": "stream",
     "text": [
      "F1-score при значении n_estimators = 20 и max_depth =  2 составила: 0.15789473684210525\n",
      "F1-score при значении n_estimators = 20 и max_depth =  3 составила: 0.2401656314699793\n",
      "F1-score при значении n_estimators = 20 и max_depth =  4 составила: 0.41379310344827586\n",
      "F1-score при значении n_estimators = 20 и max_depth =  5 составила: 0.5042301184433163\n",
      "F1-score при значении n_estimators = 20 и max_depth =  6 составила: 0.5361842105263157\n",
      "F1-score при значении n_estimators = 20 и max_depth =  7 составила: 0.5411392405063291\n",
      "F1-score при значении n_estimators = 20 и max_depth =  8 составила: 0.5632911392405064\n",
      "F1-score при значении n_estimators = 20 и max_depth =  9 составила: 0.5749613601236476\n",
      "F1-score при значении n_estimators = 20 и max_depth =  10 составила: 0.5787878787878789\n",
      "F1-score при значении n_estimators = 30 и max_depth =  1 составила: 0.0\n"
     ]
    },
    {
     "name": "stderr",
     "output_type": "stream",
     "text": [
      "/opt/conda/lib/python3.7/site-packages/sklearn/metrics/classification.py:1437: UndefinedMetricWarning: F-score is ill-defined and being set to 0.0 due to no predicted samples.\n",
      "  'precision', 'predicted', average, warn_for)\n"
     ]
    },
    {
     "name": "stdout",
     "output_type": "stream",
     "text": [
      "F1-score при значении n_estimators = 30 и max_depth =  2 составила: 0.14222222222222222\n",
      "F1-score при значении n_estimators = 30 и max_depth =  3 составила: 0.22315789473684208\n",
      "F1-score при значении n_estimators = 30 и max_depth =  4 составила: 0.3560606060606061\n",
      "F1-score при значении n_estimators = 30 и max_depth =  5 составила: 0.47781569965870313\n",
      "F1-score при значении n_estimators = 30 и max_depth =  6 составила: 0.5311475409836066\n",
      "F1-score при значении n_estimators = 30 и max_depth =  7 составила: 0.5437201907790143\n",
      "F1-score при значении n_estimators = 30 и max_depth =  8 составила: 0.5673534072900158\n",
      "F1-score при значении n_estimators = 30 и max_depth =  9 составила: 0.56875\n",
      "F1-score при значении n_estimators = 30 и max_depth =  10 составила: 0.5749235474006116\n",
      "F1-score при значении n_estimators = 40 и max_depth =  1 составила: 0.0\n"
     ]
    },
    {
     "name": "stderr",
     "output_type": "stream",
     "text": [
      "/opt/conda/lib/python3.7/site-packages/sklearn/metrics/classification.py:1437: UndefinedMetricWarning: F-score is ill-defined and being set to 0.0 due to no predicted samples.\n",
      "  'precision', 'predicted', average, warn_for)\n"
     ]
    },
    {
     "name": "stdout",
     "output_type": "stream",
     "text": [
      "F1-score при значении n_estimators = 40 и max_depth =  2 составила: 0.17391304347826086\n",
      "F1-score при значении n_estimators = 40 и max_depth =  3 составила: 0.22315789473684208\n",
      "F1-score при значении n_estimators = 40 и max_depth =  4 составила: 0.37453183520599254\n",
      "F1-score при значении n_estimators = 40 и max_depth =  5 составила: 0.46048109965635736\n",
      "F1-score при значении n_estimators = 40 и max_depth =  6 составила: 0.5328947368421054\n",
      "F1-score при значении n_estimators = 40 и max_depth =  7 составила: 0.5369774919614148\n",
      "F1-score при значении n_estimators = 40 и max_depth =  8 составила: 0.5668789808917197\n",
      "F1-score при значении n_estimators = 40 и max_depth =  9 составила: 0.5741029641185648\n",
      "F1-score при значении n_estimators = 40 и max_depth =  10 составила: 0.5709923664122137\n",
      "F1-score при значении n_estimators = 50 и max_depth =  1 составила: 0.0\n"
     ]
    },
    {
     "name": "stderr",
     "output_type": "stream",
     "text": [
      "/opt/conda/lib/python3.7/site-packages/sklearn/metrics/classification.py:1437: UndefinedMetricWarning: F-score is ill-defined and being set to 0.0 due to no predicted samples.\n",
      "  'precision', 'predicted', average, warn_for)\n"
     ]
    },
    {
     "name": "stdout",
     "output_type": "stream",
     "text": [
      "F1-score при значении n_estimators = 50 и max_depth =  2 составила: 0.1853448275862069\n",
      "F1-score при значении n_estimators = 50 и max_depth =  3 составила: 0.26993865030674846\n",
      "F1-score при значении n_estimators = 50 и max_depth =  4 составила: 0.39779005524861877\n",
      "F1-score при значении n_estimators = 50 и max_depth =  5 составила: 0.45674740484429066\n",
      "F1-score при значении n_estimators = 50 и max_depth =  6 составила: 0.5370675453047776\n",
      "F1-score при значении n_estimators = 50 и max_depth =  7 составила: 0.5536\n",
      "F1-score при значении n_estimators = 50 и max_depth =  8 составила: 0.5673534072900158\n",
      "F1-score при значении n_estimators = 50 и max_depth =  9 составила: 0.5749613601236476\n",
      "F1-score при значении n_estimators = 50 и max_depth =  10 составила: 0.5766871165644172\n",
      "F1-score при значении n_estimators = 60 и max_depth =  1 составила: 0.0\n"
     ]
    },
    {
     "name": "stderr",
     "output_type": "stream",
     "text": [
      "/opt/conda/lib/python3.7/site-packages/sklearn/metrics/classification.py:1437: UndefinedMetricWarning: F-score is ill-defined and being set to 0.0 due to no predicted samples.\n",
      "  'precision', 'predicted', average, warn_for)\n"
     ]
    },
    {
     "name": "stdout",
     "output_type": "stream",
     "text": [
      "F1-score при значении n_estimators = 60 и max_depth =  2 составила: 0.15418502202643172\n",
      "F1-score при значении n_estimators = 60 и max_depth =  3 составила: 0.24844720496894407\n",
      "F1-score при значении n_estimators = 60 и max_depth =  4 составила: 0.39999999999999997\n",
      "F1-score при значении n_estimators = 60 и max_depth =  5 составила: 0.46815834767641995\n",
      "F1-score при значении n_estimators = 60 и max_depth =  6 составила: 0.5377049180327869\n",
      "F1-score при значении n_estimators = 60 и max_depth =  7 составила: 0.5536\n",
      "F1-score при значении n_estimators = 60 и max_depth =  8 составила: 0.5718799368088467\n",
      "F1-score при значении n_estimators = 60 и max_depth =  9 составила: 0.5674418604651162\n",
      "F1-score при значении n_estimators = 60 и max_depth =  10 составила: 0.5806451612903226\n"
     ]
    },
    {
     "name": "stderr",
     "output_type": "stream",
     "text": [
      "/opt/conda/lib/python3.7/site-packages/sklearn/metrics/classification.py:1437: UndefinedMetricWarning: F-score is ill-defined and being set to 0.0 due to no predicted samples.\n",
      "  'precision', 'predicted', average, warn_for)\n"
     ]
    },
    {
     "name": "stdout",
     "output_type": "stream",
     "text": [
      "F1-score при значении n_estimators = 70 и max_depth =  1 составила: 0.0\n",
      "F1-score при значении n_estimators = 70 и max_depth =  2 составила: 0.11286681715575622\n",
      "F1-score при значении n_estimators = 70 и max_depth =  3 составила: 0.24166666666666667\n",
      "F1-score при значении n_estimators = 70 и max_depth =  4 составила: 0.3768656716417911\n",
      "F1-score при значении n_estimators = 70 и max_depth =  5 составила: 0.4714038128249567\n",
      "F1-score при значении n_estimators = 70 и max_depth =  6 составила: 0.5353037766830869\n",
      "F1-score при значении n_estimators = 70 и max_depth =  7 составила: 0.54983922829582\n",
      "F1-score при значении n_estimators = 70 и max_depth =  8 составила: 0.5641838351822503\n",
      "F1-score при значении n_estimators = 70 и max_depth =  9 составила: 0.5678627145085803\n",
      "F1-score при значении n_estimators = 70 и max_depth =  10 составила: 0.5797546012269938\n"
     ]
    },
    {
     "name": "stderr",
     "output_type": "stream",
     "text": [
      "/opt/conda/lib/python3.7/site-packages/sklearn/metrics/classification.py:1437: UndefinedMetricWarning: F-score is ill-defined and being set to 0.0 due to no predicted samples.\n",
      "  'precision', 'predicted', average, warn_for)\n"
     ]
    },
    {
     "name": "stdout",
     "output_type": "stream",
     "text": [
      "F1-score при значении n_estimators = 80 и max_depth =  1 составила: 0.0\n",
      "F1-score при значении n_estimators = 80 и max_depth =  2 составила: 0.12975391498881433\n",
      "F1-score при значении n_estimators = 80 и max_depth =  3 составила: 0.23060796645702306\n",
      "F1-score при значении n_estimators = 80 и max_depth =  4 составила: 0.38130841121495324\n",
      "F1-score при значении n_estimators = 80 и max_depth =  5 составила: 0.48453608247422686\n",
      "F1-score при значении n_estimators = 80 и max_depth =  6 составила: 0.5385878489326765\n",
      "F1-score при значении n_estimators = 80 и max_depth =  7 составила: 0.5530546623794212\n",
      "F1-score при значении n_estimators = 80 и max_depth =  8 составила: 0.5645933014354068\n",
      "F1-score при значении n_estimators = 80 и max_depth =  9 составила: 0.5628930817610063\n",
      "F1-score при значении n_estimators = 80 и max_depth =  10 составила: 0.5793528505392913\n"
     ]
    },
    {
     "name": "stderr",
     "output_type": "stream",
     "text": [
      "/opt/conda/lib/python3.7/site-packages/sklearn/metrics/classification.py:1437: UndefinedMetricWarning: F-score is ill-defined and being set to 0.0 due to no predicted samples.\n",
      "  'precision', 'predicted', average, warn_for)\n"
     ]
    },
    {
     "name": "stdout",
     "output_type": "stream",
     "text": [
      "F1-score при значении n_estimators = 90 и max_depth =  1 составила: 0.0\n",
      "F1-score при значении n_estimators = 90 и max_depth =  2 составила: 0.11286681715575622\n",
      "F1-score при значении n_estimators = 90 и max_depth =  3 составила: 0.22315789473684208\n",
      "F1-score при значении n_estimators = 90 и max_depth =  4 составила: 0.3714821763602251\n",
      "F1-score при значении n_estimators = 90 и max_depth =  5 составила: 0.46956521739130436\n",
      "F1-score при значении n_estimators = 90 и max_depth =  6 составила: 0.5320197044334976\n",
      "F1-score при значении n_estimators = 90 и max_depth =  7 составила: 0.5530546623794212\n",
      "F1-score при значении n_estimators = 90 и max_depth =  8 составила: 0.5591054313099042\n",
      "F1-score при значении n_estimators = 90 и max_depth =  9 составила: 0.5660377358490566\n",
      "F1-score при значении n_estimators = 90 и max_depth =  10 составила: 0.5771604938271605\n"
     ]
    },
    {
     "name": "stderr",
     "output_type": "stream",
     "text": [
      "/opt/conda/lib/python3.7/site-packages/sklearn/metrics/classification.py:1437: UndefinedMetricWarning: F-score is ill-defined and being set to 0.0 due to no predicted samples.\n",
      "  'precision', 'predicted', average, warn_for)\n"
     ]
    },
    {
     "name": "stdout",
     "output_type": "stream",
     "text": [
      "F1-score при значении n_estimators = 100 и max_depth =  1 составила: 0.0\n",
      "F1-score при значении n_estimators = 100 и max_depth =  2 составила: 0.1294642857142857\n",
      "F1-score при значении n_estimators = 100 и max_depth =  3 составила: 0.23749999999999996\n",
      "F1-score при значении n_estimators = 100 и max_depth =  4 составила: 0.37453183520599254\n",
      "F1-score при значении n_estimators = 100 и max_depth =  5 составила: 0.46234676007005243\n",
      "F1-score при значении n_estimators = 100 и max_depth =  6 составила: 0.5370675453047776\n",
      "F1-score при значении n_estimators = 100 и max_depth =  7 составила: 0.5507246376811594\n",
      "F1-score при значении n_estimators = 100 и max_depth =  8 составила: 0.5582137161084529\n",
      "F1-score при значении n_estimators = 100 и max_depth =  9 составила: 0.5678233438485806\n",
      "F1-score при значении n_estimators = 100 и max_depth =  10 составила: 0.5793528505392913\n",
      "Лучший F1-score при значении n_estimators = 60 и max_depth =  10 составила: 0.5806451612903226\n"
     ]
    }
   ],
   "source": [
    "from sklearn.ensemble import RandomForestClassifier\n",
    "from sklearn.metrics import f1_score\n",
    "\n",
    "f1_best = 0\n",
    "estim_best = 0\n",
    "depth_best = 0\n",
    "\n",
    "for estim in range (10, 101, 10):\n",
    "    for depth in range(1, 11):\n",
    "        forest = RandomForestClassifier(n_estimators=estim, max_depth=depth, random_state=12345)\n",
    "        forest.fit(train_features_scaled, train_target)\n",
    "        prediction = forest.predict(valid_features_scaled)\n",
    "        f1 = f1_score(valid_target, prediction)\n",
    "        if f1>f1_best:\n",
    "            f1_best=f1\n",
    "            estim_best=estim\n",
    "            depth_best=depth\n",
    "        print('F1-score при значении n_estimators =', estim, 'и max_depth = ', depth, 'составила:', f1)\n",
    "\n",
    "print('Лучший F1-score при значении n_estimators =', estim_best, 'и max_depth = ', depth_best, 'составила:', f1_best)"
   ]
  },
  {
   "cell_type": "markdown",
   "metadata": {},
   "source": [
    "Лучший F1-score при значении n_estimators = 60 и max_depth =  10 составил 0.5806451612903226"
   ]
  },
  {
   "cell_type": "code",
   "execution_count": 11,
   "metadata": {},
   "outputs": [
    {
     "name": "stdout",
     "output_type": "stream",
     "text": [
      "F1-score составила: 0.3333333333333333\n"
     ]
    },
    {
     "name": "stderr",
     "output_type": "stream",
     "text": [
      "/opt/conda/lib/python3.7/site-packages/sklearn/linear_model/logistic.py:432: FutureWarning: Default solver will be changed to 'lbfgs' in 0.22. Specify a solver to silence this warning.\n",
      "  FutureWarning)\n"
     ]
    }
   ],
   "source": [
    "from sklearn.linear_model import LogisticRegression\n",
    "regression = LogisticRegression(random_state=12345)\n",
    "regression.fit(train_features_scaled, train_target)\n",
    "prediction = regression.predict(valid_features_scaled)\n",
    "f1 = f1_score(valid_target, prediction)\n",
    "print('F1-score составила:', f1)"
   ]
  },
  {
   "cell_type": "markdown",
   "metadata": {},
   "source": [
    "Ни случайный лес, ни логистическая регрессия не достигают значения f1 > 0.59. ПРичина тому, что данные не сбалансированы. В следующем шаге повысим качество модели, устранив дисбаланс."
   ]
  },
  {
   "cell_type": "markdown",
   "metadata": {},
   "source": [
    "Вывод\n",
    "\n",
    "Мы изучили баланс классов, посмотрели, какое значение метрики F1 дают различные модели (при различных гиперпараметрах). Пришли к выводу, что они не достигают требуемой показателя более 0.59."
   ]
  },
  {
   "cell_type": "markdown",
   "metadata": {},
   "source": [
    "# 3. Борьба с дисбалансом"
   ]
  },
  {
   "cell_type": "markdown",
   "metadata": {},
   "source": [
    "Для борьбы с дисбалансом проанализируем 2 способа: взвешивание классов и увеличение/уменьшение выборки. Для проверки модели на вменяемость дополнительно к F1 будем рассчитывает AUC-ROC.  Начнем со взвешивания классов."
   ]
  },
  {
   "cell_type": "code",
   "execution_count": 12,
   "metadata": {},
   "outputs": [
    {
     "name": "stdout",
     "output_type": "stream",
     "text": [
      "\n",
      "Лучший F1-score = 0.6346, AUC-ROC score = 0.8571 при значении n_estimators = 70 и max_depth = 7\n"
     ]
    }
   ],
   "source": [
    "from sklearn.metrics import roc_auc_score\n",
    "\n",
    "f1_best = 0\n",
    "estim_best = 0\n",
    "depth_best = 0\n",
    "auc_roc_best = 0\n",
    "\n",
    "for estim in range (10, 101, 10):\n",
    "    for depth in range(1, 11):\n",
    "        forest = RandomForestClassifier(n_estimators=estim, max_depth=depth, random_state=12345, class_weight='balanced')\n",
    "        forest.fit(train_features_scaled, train_target)\n",
    "        prediction = forest.predict(valid_features_scaled)\n",
    "        f1 = f1_score(valid_target, prediction)\n",
    "        \n",
    "        probabilities_valid = forest.predict_proba(valid_features_scaled)\n",
    "        probabilities_one_valid = probabilities_valid[:, 1]\n",
    "        auc_roc = roc_auc_score(valid_target, probabilities_one_valid)\n",
    "        \n",
    "        if f1>f1_best:\n",
    "            f1_best=f1\n",
    "            estim_best=estim\n",
    "            depth_best=depth\n",
    "            auc_roc_best=auc_roc\n",
    "\n",
    "print('')\n",
    "print('Лучший F1-score = {:.4f}, AUC-ROC score = {:.4f} при значении n_estimators = {} и max_depth = {}'.format(f1_best, auc_roc_best, estim_best, depth_best))\n"
   ]
  },
  {
   "cell_type": "code",
   "execution_count": 13,
   "metadata": {},
   "outputs": [
    {
     "name": "stdout",
     "output_type": "stream",
     "text": [
      "F1-score составила: 0.4889\n",
      "AUC-ROC score составила: 0.7634\n"
     ]
    }
   ],
   "source": [
    "regression = LogisticRegression(random_state=12345, class_weight='balanced', solver='liblinear')\n",
    "regression.fit(train_features_scaled, train_target)\n",
    "prediction = regression.predict(valid_features_scaled)\n",
    "f1 = f1_score(valid_target, prediction)\n",
    "\n",
    "probabilities_valid = regression.predict_proba(valid_features_scaled)\n",
    "probabilities_one_valid = probabilities_valid[:, 1]\n",
    "auc_roc = roc_auc_score(valid_target, probabilities_one_valid)\n",
    "\n",
    "\n",
    "print('F1-score составила: {:.4f}'.format(f1))\n",
    "print('AUC-ROC score составила: {:.4f}'.format(auc_roc))"
   ]
  },
  {
   "cell_type": "markdown",
   "metadata": {},
   "source": [
    "Качество обеих моделей увеличилось, но логистическая регрессия не достигла требуемого показателя, а вот случайный лес смог его превысить. Попробуем улучшить качество модели за счет увеличения выборки. Напишем формулу для upsampling."
   ]
  },
  {
   "cell_type": "code",
   "execution_count": 14,
   "metadata": {},
   "outputs": [],
   "source": [
    "from sklearn.utils import shuffle\n",
    "\n",
    "def upsample(features, target, repeat):\n",
    "    features_zeros = features[target == 0]\n",
    "    features_ones = features[target == 1]\n",
    "    target_zeros = target[target == 0]\n",
    "    target_ones = target[target == 1]\n",
    "    features_upsampled = pd.concat([features_zeros] + [features_ones] * repeat)\n",
    "    target_upsampled = pd.concat([target_zeros] + [target_ones] * repeat)\n",
    "    features_upsampled, target_upsampled = shuffle(\n",
    "    features_upsampled, target_upsampled, random_state=12345)\n",
    "    return features_upsampled, target_upsampled"
   ]
  },
  {
   "cell_type": "markdown",
   "metadata": {},
   "source": [
    "Ранее мы установили, что 1 - это 20% от всех ответов. Поэтому увеличим их долю в 4 раза."
   ]
  },
  {
   "cell_type": "code",
   "execution_count": 15,
   "metadata": {},
   "outputs": [],
   "source": [
    "train_features_upsampled, train_target_upsampled = upsample(train_features, train_target, 4)"
   ]
  },
  {
   "cell_type": "code",
   "execution_count": 16,
   "metadata": {},
   "outputs": [],
   "source": [
    "#отмасштабируем тренировочные тестовые выборки\n",
    "train_features_upsampled_scaled = scaler.transform(train_features_upsampled)"
   ]
  },
  {
   "cell_type": "markdown",
   "metadata": {},
   "source": [
    "Рассмотрим случайный лес"
   ]
  },
  {
   "cell_type": "code",
   "execution_count": 17,
   "metadata": {},
   "outputs": [
    {
     "name": "stdout",
     "output_type": "stream",
     "text": [
      "\n",
      "Лучший F1-score = 0.6255, AUC-ROC score = 0.8552 при значении n_estimators = 20 и max_depth = 7\n"
     ]
    }
   ],
   "source": [
    "f1_best = 0\n",
    "estim_best = 0\n",
    "depth_best = 0\n",
    "auc_roc_best = 0\n",
    "\n",
    "for estim in range (10, 101, 10):\n",
    "    for depth in range(1, 11):\n",
    "        forest = RandomForestClassifier(n_estimators=estim, max_depth=depth, random_state=12345)\n",
    "        forest.fit(train_features_upsampled_scaled, train_target_upsampled)\n",
    "        prediction = forest.predict(valid_features_scaled)\n",
    "        f1 = f1_score(valid_target, prediction)\n",
    "        \n",
    "        probabilities_valid = forest.predict_proba(valid_features_scaled)\n",
    "        probabilities_one_valid = probabilities_valid[:, 1]\n",
    "        auc_roc = roc_auc_score(valid_target, probabilities_one_valid)\n",
    "        \n",
    "        if f1>f1_best:\n",
    "            f1_best=f1\n",
    "            estim_best=estim\n",
    "            depth_best=depth\n",
    "            auc_roc_best=auc_roc\n",
    "\n",
    "print('')\n",
    "print('Лучший F1-score = {:.4f}, AUC-ROC score = {:.4f} при значении n_estimators = {} и max_depth = {}'.format(f1_best, auc_roc_best, estim_best, depth_best))\n"
   ]
  },
  {
   "cell_type": "markdown",
   "metadata": {},
   "source": [
    "Рассмотрим логистическую регрессию"
   ]
  },
  {
   "cell_type": "code",
   "execution_count": 18,
   "metadata": {},
   "outputs": [
    {
     "name": "stdout",
     "output_type": "stream",
     "text": [
      "F1-score составила: 0.4889\n",
      "AUC-ROC score составила: 0.7634\n"
     ]
    }
   ],
   "source": [
    "regression = LogisticRegression(random_state=12345, solver='liblinear')\n",
    "regression.fit(train_features_upsampled_scaled, train_target_upsampled)\n",
    "prediction = regression.predict(valid_features_scaled)\n",
    "f1 = f1_score(valid_target, prediction)\n",
    "\n",
    "probabilities_valid = regression.predict_proba(valid_features_scaled)\n",
    "probabilities_one_valid = probabilities_valid[:, 1]\n",
    "auc_roc = roc_auc_score(valid_target, probabilities_one_valid)\n",
    "\n",
    "\n",
    "print('F1-score составила: {:.4f}'.format(f1))\n",
    "print('AUC-ROC score составила: {:.4f}'.format(auc_roc))"
   ]
  },
  {
   "cell_type": "markdown",
   "metadata": {},
   "source": [
    "Наилучшее качество модели было достигнуто при взвешивании классов с испльзование случайного леса, с глубиной 7 и количеством дерьевев 70. "
   ]
  },
  {
   "cell_type": "markdown",
   "metadata": {},
   "source": [
    "# 4. Тестирование модели"
   ]
  },
  {
   "cell_type": "code",
   "execution_count": 19,
   "metadata": {},
   "outputs": [
    {
     "name": "stdout",
     "output_type": "stream",
     "text": [
      "F1-score = 0.6098, AUC-ROC score = 0.8523\n"
     ]
    }
   ],
   "source": [
    "best_model = RandomForestClassifier(n_estimators=70, max_depth=7, random_state=12345, class_weight='balanced')\n",
    "best_model.fit(train_features_scaled, train_target)\n",
    "prediction = best_model.predict(test_features_scaled)\n",
    "f1 = f1_score(test_target, prediction)\n",
    "        \n",
    "probabilities_valid = best_model.predict_proba(test_features_scaled)\n",
    "probabilities_one_valid = probabilities_valid[:, 1]\n",
    "auc_roc = roc_auc_score(test_target, probabilities_one_valid)\n",
    "print('F1-score = {:.4f}, AUC-ROC score = {:.4f}'.format(f1, auc_roc))\n",
    "\n"
   ]
  },
  {
   "cell_type": "markdown",
   "metadata": {},
   "source": [
    "Достигнут целевой показатель F1, а также подтверждена вменяемость модель (AUC-ROC > 0.5."
   ]
  }
 ],
 "metadata": {
  "kernelspec": {
   "display_name": "Python 3",
   "language": "python",
   "name": "python3"
  },
  "language_info": {
   "codemirror_mode": {
    "name": "ipython",
    "version": 3
   },
   "file_extension": ".py",
   "mimetype": "text/x-python",
   "name": "python",
   "nbconvert_exporter": "python",
   "pygments_lexer": "ipython3",
   "version": "3.7.6"
  }
 },
 "nbformat": 4,
 "nbformat_minor": 2
}
